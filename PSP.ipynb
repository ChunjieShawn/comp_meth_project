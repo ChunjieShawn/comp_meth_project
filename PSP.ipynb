{
 "cells": [
  {
   "cell_type": "code",
   "execution_count": 23,
   "metadata": {},
   "outputs": [],
   "source": [
    "%matplotlib inline\n",
    "import numpy as np\n",
    "import struct\n",
    "import matplotlib.pyplot as plt\n",
    "import csv\n",
    "import pandas as pd\n",
    "from keras import backend  as K\n",
    "import keras\n",
    "import tensorflow as tf\n",
    "\n",
    "from keras.preprocessing import text, sequence\n",
    "from keras.preprocessing.text import Tokenizer\n",
    "from keras.utils import to_categorical\n",
    "from keras.models import Model, Input\n",
    "from keras.layers import LSTM, Embedding, Dense, TimeDistributed, Bidirectional,Conv1D, MaxPooling1D\n",
    "from keras import optimizers\n",
    "from keras.optimizers import Adam\n",
    "from sklearn.model_selection import train_test_split\n",
    "from keras.metrics import categorical_accuracy"
   ]
  },
  {
   "cell_type": "code",
   "execution_count": 24,
   "metadata": {},
   "outputs": [],
   "source": [
    "data = pd.read_csv('2018-06-06-pdb-intersect-pisces.csv')\n",
    "#data.len.hist(bins=50)"
   ]
  },
  {
   "cell_type": "code",
   "execution_count": 30,
   "metadata": {},
   "outputs": [],
   "source": [
    "#data preprocessing, I used sequences with length <= 400, which contains 85% data\n",
    "\n",
    "#transform raw data into array\n",
    "#aa_seqs, dssp_seqs = data[['seq', 'sst3']][(data.len<400)].values.T\n",
    "aa_seqs, dssp_seqs = data[['seq', 'sst8']][(data.len<400)].values.T\n",
    "aa_seq_array = np.array([[aa_seq[i] for i in range(len(aa_seq))] for aa_seq in aa_seqs])\n",
    "dssp_seq_array = np.array([[dssp_seq[i] for i in range(len(dssp_seq))] for dssp_seq in dssp_seqs])\n",
    "\n",
    "\n",
    "#using one-hot-encoding to transform 21 AA and DSSP states to computable equivalent states\n",
    "one_hot_encoding = Tokenizer()\n",
    "one_hot_encoding.fit_on_texts(aa_seq_array)\n",
    "input_data = one_hot_encoding.texts_to_sequences(aa_seq_array)\n",
    "input_data = sequence.pad_sequences(input_data, maxlen=400, padding='post')\n",
    "one_hot_decoding = Tokenizer(char_level=True)\n",
    "one_hot_decoding.fit_on_texts(dssp_seq_array)\n",
    "target_data = one_hot_decoding.texts_to_sequences(dssp_seq_array)\n",
    "target_data = sequence.pad_sequences(target_data, maxlen=400, padding='post')\n",
    "target_data = to_categorical(target_data)\n",
    "X_train = input_data\n",
    "y_train = target_data"
   ]
  },
  {
   "cell_type": "code",
   "execution_count": 34,
   "metadata": {},
   "outputs": [],
   "source": [
    "#model using CNN and LSTM\n",
    "n_aa = len(one_hot_encoding.word_index) + 1\n",
    "n_dssp = len(one_hot_decoding.word_index) + 1\n",
    "\n",
    "input = Input(shape=(400,))\n",
    "x = Embedding(input_dim=n_aa, output_dim=400, input_length=400)(input)\n",
    "x = Conv1D(64, 1, activation='relu', strides=1)(x)\n",
    "x = Bidirectional(LSTM(units=64, return_sequences=True, recurrent_dropout=0.1))(x)\n",
    "y = TimeDistributed(Dense(n_dssp, activation='softmax'))(x)\n",
    "model = Model(input, y)"
   ]
  },
  {
   "cell_type": "code",
   "execution_count": 39,
   "metadata": {},
   "outputs": [
    {
     "name": "stdout",
     "output_type": "stream",
     "text": [
      "_________________________________________________________________\n",
      "Layer (type)                 Output Shape              Param #   \n",
      "=================================================================\n",
      "input_8 (InputLayer)         (None, 400)               0         \n",
      "_________________________________________________________________\n",
      "embedding_7 (Embedding)      (None, 400, 400)          8800      \n",
      "_________________________________________________________________\n",
      "conv1d_7 (Conv1D)            (None, 400, 64)           25664     \n",
      "_________________________________________________________________\n",
      "bidirectional_7 (Bidirection (None, 400, 128)          66048     \n",
      "_________________________________________________________________\n",
      "time_distributed_7 (TimeDist (None, 400, 9)            1161      \n",
      "=================================================================\n",
      "Total params: 101,673\n",
      "Trainable params: 101,673\n",
      "Non-trainable params: 0\n",
      "_________________________________________________________________\n"
     ]
    }
   ],
   "source": [
    "model.summary()"
   ]
  },
  {
   "cell_type": "code",
   "execution_count": 36,
   "metadata": {},
   "outputs": [],
   "source": [
    "#history class used to plot accuracy and loss\n",
    "class LossHistory(keras.callbacks.Callback): \n",
    "    def on_train_begin(self, logs={}): \n",
    "        self.losses = {'batch':[], 'epoch':[]} \n",
    "        self.accuracy = {'batch':[], 'epoch':[]} \n",
    "        self.val_loss = {'batch':[], 'epoch':[]} \n",
    "        self.val_acc = {'batch':[], 'epoch':[]} \n",
    "    def on_batch_end(self, batch, logs={}): \n",
    "        self.losses['batch'].append(logs.get('loss')) \n",
    "        self.accuracy['batch'].append(logs.get('acc')) \n",
    "        self.val_loss['batch'].append(logs.get('val_loss')) \n",
    "        self.val_acc['batch'].append(logs.get('val_acc'))\n",
    "    def on_epoch_end(self, batch, logs={}): \n",
    "        self.losses['epoch'].append(logs.get('loss')) \n",
    "        self.accuracy['epoch'].append(logs.get('acc')) \n",
    "        self.val_loss['epoch'].append(logs.get('val_loss')) \n",
    "        self.val_acc['epoch'].append(logs.get('val_acc')) \n",
    "    def loss_plot(self, loss_type): \n",
    "        iters = range(len(self.losses[loss_type])) \n",
    "        plt.figure() \n",
    "        plt.plot(iters, self.accuracy[loss_type], 'r', label='train acc') \n",
    "        plt.plot(iters, self.losses[loss_type], 'g', label='train loss') \n",
    "        if loss_type == 'epoch': \n",
    "            plt.plot(iters, self.val_acc[loss_type], 'b', label='val acc') \n",
    "            plt.plot(iters, self.val_loss[loss_type], 'k', label='val loss') \n",
    "        plt.grid(True) \n",
    "        plt.xlabel(loss_type) \n",
    "        plt.ylabel('acc-loss') \n",
    "        plt.legend(loc=\"upper right\") \n",
    "        plt.show()"
   ]
  },
  {
   "cell_type": "code",
   "execution_count": 37,
   "metadata": {},
   "outputs": [
    {
     "name": "stdout",
     "output_type": "stream",
     "text": [
      "Train on 5484 samples, validate on 2351 samples\n",
      "Epoch 1/10\n",
      "5484/5484 [==============================] - 216s 39ms/step - loss: 1.0139 - acc: 0.7348 - val_loss: 1.2976 - val_acc: 0.4740\n",
      "Epoch 2/10\n",
      "5484/5484 [==============================] - 203s 37ms/step - loss: 0.5554 - acc: 0.7825 - val_loss: 1.1925 - val_acc: 0.5398\n",
      "Epoch 3/10\n",
      "5484/5484 [==============================] - 205s 37ms/step - loss: 0.5055 - acc: 0.8104 - val_loss: 1.1257 - val_acc: 0.5804\n",
      "Epoch 4/10\n",
      "5484/5484 [==============================] - 219s 40ms/step - loss: 0.4851 - acc: 0.8209 - val_loss: 1.1044 - val_acc: 0.5882\n",
      "Epoch 5/10\n",
      "5484/5484 [==============================] - 214s 39ms/step - loss: 0.4732 - acc: 0.8261 - val_loss: 1.0817 - val_acc: 0.6001\n",
      "Epoch 6/10\n",
      "5484/5484 [==============================] - 208s 38ms/step - loss: 0.4662 - acc: 0.8289 - val_loss: 1.0677 - val_acc: 0.6043\n",
      "Epoch 7/10\n",
      "5484/5484 [==============================] - 199s 36ms/step - loss: 0.4608 - acc: 0.8308 - val_loss: 1.0574 - val_acc: 0.6092\n",
      "Epoch 8/10\n",
      "5484/5484 [==============================] - 190s 35ms/step - loss: 0.4566 - acc: 0.8326 - val_loss: 1.0585 - val_acc: 0.6078\n",
      "Epoch 9/10\n",
      "5484/5484 [==============================] - 187s 34ms/step - loss: 0.4528 - acc: 0.8343 - val_loss: 1.0587 - val_acc: 0.6059\n",
      "Epoch 10/10\n",
      "5484/5484 [==============================] - 187s 34ms/step - loss: 0.4498 - acc: 0.8356 - val_loss: 1.0459 - val_acc: 0.6127\n"
     ]
    },
    {
     "data": {
      "image/png": "[encoded data removed]",
      "text/plain": [
       "<Figure size 432x288 with 1 Axes>"
      ]
     },
     "metadata": {
      "needs_background": "light"
     },
     "output_type": "display_data"
    }
   ],
   "source": [
    "#fit the model\n",
    "model.compile(optimizer=\"adam\", \n",
    "              loss=\"categorical_crossentropy\", \n",
    "              metrics=[\"accuracy\"])\n",
    "\n",
    "history = LossHistory()\n",
    "\n",
    "model.fit(X_train, y_train, batch_size=128, epochs=10, \n",
    "          validation_split=0.3,\n",
    "          shuffle=True, callbacks=[history], verbose=1)\n",
    "\n",
    "history.loss_plot('epoch')"
   ]
  },
  {
   "cell_type": "code",
   "execution_count": 40,
   "metadata": {
    "scrolled": true
   },
   "outputs": [
    {
     "name": "stdout",
     "output_type": "stream",
     "text": [
      "AA sequence: \n",
      "NPVVHFFKNIVTPRTPPPSQ\n",
      "Secondary structure sequence: \n",
      "CCCCCBCCCCCCCCCCCCCC\n",
      "Prediction sequence: \n",
      "CCEEEEEEEEECCCCCCCCC\n",
      " \n",
      "AA sequence: \n",
      "DLDLEMLAPYIPMDDDFQLR\n",
      "Secondary structure sequence: \n",
      "CCCCCCCCCBCCSCCCEECC\n",
      "Prediction sequence: \n",
      "CCCHHHCCCCCCCCCCHCCC\n",
      " \n",
      "AA sequence: \n",
      "EEDPDLKAAIQESLREAEEA\n",
      "Secondary structure sequence: \n",
      "CCCHHHHHHHHHHHHHHHTC\n",
      "Prediction sequence: \n",
      "CCCCCHHHHHHHHHHHCCCC\n",
      " \n"
     ]
    }
   ],
   "source": [
    "#test on a few sequences and reverse to letters to see the prediction\n",
    "def rev_one_hot(one_hot_seq, code_tab):\n",
    "    dssp_str = ''\n",
    "    for i in one_hot_seq:\n",
    "        i = np.argmax(i)\n",
    "        if i > 0:\n",
    "            dssp_str += code_tab[i]\n",
    "        else:\n",
    "            break\n",
    "    return dssp_str\n",
    "\n",
    "def plot_results(aa, dssp, dssp_pred):\n",
    "    print(\"AA sequence: \")\n",
    "    print(str(aa))\n",
    "    print(\"Secondary structure sequence: \")\n",
    "    print(str(rev_one_hot(dssp, revsere_decoder_index).upper()))\n",
    "    print(\"Prediction sequence: \")\n",
    "    print(str(rev_one_hot(dssp_pred, revsere_decoder_index).upper()))\n",
    "    print(\" \")\n",
    "    \n",
    "revsere_decoder_index = {value:key for key,value in one_hot_decoding.word_index.items()}\n",
    "\n",
    "y_train_pred = model.predict(X_train[:3])\n",
    "\n",
    "for i in range(N):\n",
    "    plot_results(aa_seqs[i], y_train[i], y_train_pred[i])"
   ]
  },
  {
   "cell_type": "code",
   "execution_count": null,
   "metadata": {},
   "outputs": [],
   "source": []
  },
  {
   "cell_type": "code",
   "execution_count": null,
   "metadata": {},
   "outputs": [],
   "source": []
  }
 ],
 "metadata": {
  "kernelspec": {
   "display_name": "myenv2.7",
   "language": "python",
   "name": "myenv2.7"
  },
  "language_info": {
   "codemirror_mode": {
    "name": "ipython",
    "version": 2
   },
   "file_extension": ".py",
   "mimetype": "text/x-python",
   "name": "python",
   "nbconvert_exporter": "python",
   "pygments_lexer": "ipython2",
   "version": "2.7.15"
  }
 },
 "nbformat": 4,
 "nbformat_minor": 2
}
